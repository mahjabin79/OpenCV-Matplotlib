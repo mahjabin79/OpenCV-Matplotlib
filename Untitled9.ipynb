{
 "nbformat": 4,
 "nbformat_minor": 0,
 "metadata": {
  "colab": {
   "provenance": []
  },
  "kernelspec": {
   "name": "python3",
   "display_name": "Python 3 (ipykernel)",
   "language": "python"
  },
  "language_info": {
   "name": "python"
  }
 },
 "cells": [
  {
   "cell_type": "code",
   "metadata": {
    "id": "DFq55kpYcLOf",
    "ExecuteTime": {
     "end_time": "2024-05-14T17:17:35.522448Z",
     "start_time": "2024-05-14T17:17:35.461958Z"
    }
   },
   "source": [
    "from matplotlib import pyplot as plt\n",
    "import cv2\n",
    "\n"
   ],
   "outputs": [
    {
     "ename": "ModuleNotFoundError",
     "evalue": "No module named 'cv2'",
     "output_type": "error",
     "traceback": [
      "\u001B[1;31m---------------------------------------------------------------------------\u001B[0m",
      "\u001B[1;31mModuleNotFoundError\u001B[0m                       Traceback (most recent call last)",
      "Cell \u001B[1;32mIn[3], line 2\u001B[0m\n\u001B[0;32m      1\u001B[0m \u001B[38;5;28;01mfrom\u001B[39;00m \u001B[38;5;21;01mmatplotlib\u001B[39;00m \u001B[38;5;28;01mimport\u001B[39;00m pyplot \u001B[38;5;28;01mas\u001B[39;00m plt\n\u001B[1;32m----> 2\u001B[0m \u001B[38;5;28;01mimport\u001B[39;00m \u001B[38;5;21;01mcv2\u001B[39;00m\n",
      "\u001B[1;31mModuleNotFoundError\u001B[0m: No module named 'cv2'"
     ]
    }
   ],
   "execution_count": 3
  },
  {
   "cell_type": "code",
   "source": [
    "image = cv2.imread(\"VOGUE.jpg\")\n",
    "model=cv2.CascadeClassifier(\"model.xml\")\n",
    "face = model.detectMultiScale(image)\n",
    "\n",
    "x=face[0][0]\n",
    "y=face[0][1]\n",
    "a=face[0][2]\n",
    "b=face[0][3]\n",
    "\n",
    "image= cv2.rectangle(image ,(x,y),(x+a,y+b),(255,0,0),3)\n",
    "image = cv2.cvtColor(image , cv2.COLOR_BGR2RGB)\n",
    "plt.imshow(image)"
   ],
   "metadata": {
    "colab": {
     "base_uri": "https://localhost:8080/",
     "height": 452
    },
    "id": "UdWV9feZfnBW",
    "outputId": "b10f5ad6-4e09-4a29-b78c-1dca9b52252b"
   },
   "outputs": [],
   "execution_count": null
  },
  {
   "cell_type": "code",
   "source": [],
   "metadata": {
    "id": "_4el-d5Wgy7x"
   },
   "outputs": [],
   "execution_count": null
  }
 ]
}
